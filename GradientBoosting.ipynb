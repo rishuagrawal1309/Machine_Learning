{
  "nbformat": 4,
  "nbformat_minor": 0,
  "metadata": {
    "colab": {
      "provenance": [],
      "authorship_tag": "ABX9TyON/m0vp0WKzucDlOkSmcJ3",
      "include_colab_link": true
    },
    "kernelspec": {
      "name": "python3",
      "display_name": "Python 3"
    },
    "language_info": {
      "name": "python"
    }
  },
  "cells": [
    {
      "cell_type": "markdown",
      "metadata": {
        "id": "view-in-github",
        "colab_type": "text"
      },
      "source": [
        "<a href=\"https://colab.research.google.com/github/rishuagrawal1309/Machine_Learning/blob/main/GradientBoosting.ipynb\" target=\"_parent\"><img src=\"https://colab.research.google.com/assets/colab-badge.svg\" alt=\"Open In Colab\"/></a>"
      ]
    },
    {
      "cell_type": "code",
      "execution_count": 1,
      "metadata": {
        "colab": {
          "base_uri": "https://localhost:8080/"
        },
        "id": "cSXfOw-pe0oT",
        "outputId": "c29936b3-6dc7-4fa0-f2cc-e9d2ece4353f"
      },
      "outputs": [
        {
          "output_type": "stream",
          "name": "stdout",
          "text": [
            "Gradient Boosting Classifier accuracy is : 0.98\n"
          ]
        }
      ],
      "source": [
        "from sklearn.ensemble import GradientBoostingClassifier\n",
        "from sklearn.model_selection import train_test_split\n",
        "from sklearn.metrics import accuracy_score\n",
        "from sklearn.datasets import load_digits\n",
        "\n",
        "SEED = 23\n",
        "\n",
        "X, y = load_digits(return_X_y=True)\n",
        "\n",
        "train_X, test_X, train_y, test_y = train_test_split(X, y,\n",
        "                                                    test_size = 0.25,\n",
        "                                                    random_state = SEED)\n",
        "\n",
        "gbc = GradientBoostingClassifier(n_estimators=300,\n",
        "                                 learning_rate=0.05,\n",
        "                                 random_state=100,\n",
        "                                 max_features=5 )\n",
        "\n",
        "gbc.fit(train_X, train_y)\n",
        "\n",
        "pred_y = gbc.predict(test_X)\n",
        "\n",
        "acc = accuracy_score(test_y, pred_y)\n",
        "print(\"Gradient Boosting Classifier accuracy is : {:.2f}\".format(acc))"
      ]
    },
    {
      "cell_type": "code",
      "source": [
        "from sklearn.ensemble import GradientBoostingRegressor\n",
        "from sklearn.model_selection import train_test_split\n",
        "from sklearn.metrics import mean_squared_error\n",
        "from sklearn.datasets import load_diabetes\n",
        "\n",
        "SEED = 23\n",
        "\n",
        "X, y = load_diabetes(return_X_y=True)\n",
        "\n",
        "train_X, test_X, train_y, test_y = train_test_split(X, y,\n",
        "                                                    test_size = 0.25,\n",
        "                                                    random_state = SEED)\n",
        "\n",
        "gbr = GradientBoostingRegressor(loss='absolute_error',\n",
        "                                learning_rate=0.1,\n",
        "                                n_estimators=300,\n",
        "                                max_depth = 1,\n",
        "                                random_state = SEED,\n",
        "                                max_features = 5)\n",
        "\n",
        "gbr.fit(train_X, train_y)\n",
        "\n",
        "pred_y = gbr.predict(test_X)\n",
        "\n",
        "test_rmse = mean_squared_error(test_y, pred_y) ** (1 / 2)\n",
        "\n",
        "print('Root mean Square error: {:.2f}'.format(test_rmse))"
      ],
      "metadata": {
        "colab": {
          "base_uri": "https://localhost:8080/"
        },
        "id": "bXZgcYUkf9Ja",
        "outputId": "b92e55f9-8525-4826-9182-a36bc8ed38a1"
      },
      "execution_count": 2,
      "outputs": [
        {
          "output_type": "stream",
          "name": "stdout",
          "text": [
            "Root mean Square error: 56.39\n"
          ]
        }
      ]
    }
  ]
}