{
  "nbformat": 4,
  "nbformat_minor": 0,
  "metadata": {
    "colab": {
      "provenance": [],
      "authorship_tag": "ABX9TyNdeJ9fKvMoSMj2O8cRK7JJ",
      "include_colab_link": true
    },
    "kernelspec": {
      "name": "python3",
      "display_name": "Python 3"
    },
    "language_info": {
      "name": "python"
    }
  },
  "cells": [
    {
      "cell_type": "markdown",
      "metadata": {
        "id": "view-in-github",
        "colab_type": "text"
      },
      "source": [
        "<a href=\"https://colab.research.google.com/github/rishuagrawal1309/My-first/blob/main/Adaboostalgo.ipynb\" target=\"_parent\"><img src=\"https://colab.research.google.com/assets/colab-badge.svg\" alt=\"Open In Colab\"/></a>"
      ]
    },
    {
      "cell_type": "code",
      "execution_count": 1,
      "metadata": {
        "id": "l1pA_rFcbfe-"
      },
      "outputs": [],
      "source": [
        "import numpy as np\n",
        "from sklearn.tree import DecisionTreeClassifier\n",
        "from sklearn.datasets import load_iris\n",
        "from sklearn.datasets import make_classification\n",
        "from sklearn.model_selection import train_test_split\n",
        "from sklearn.metrics import accuracy_score, confusion_matrix, precision_score, recall_score, f1_score, roc_auc_score"
      ]
    },
    {
      "cell_type": "code",
      "source": [
        "class AdaBoost:\n",
        "    def __init__(self, n_estimators=50):\n",
        "        self.n_estimators = n_estimators\n",
        "        self.alphas = []\n",
        "        self.models = []\n",
        "        class AdaBoost:\n",
        "    def __init__(self, n_estimators=50):\n",
        "        self.n_estimators = n_estimators\n",
        "        # other init code\n",
        "\n",
        "    def fit(self, X, y):\n",
        "        # training code here\n",
        "        pass\n",
        "\n",
        "    def predict(self, X):\n",
        "        # prediction code here\n",
        "        pass\n"
      ],
      "metadata": {
        "id": "WEN_JWLqbnJu"
      },
      "execution_count": 2,
      "outputs": []
    },
    {
      "cell_type": "code",
      "source": [
        "def fit(self, X, y):\n",
        "        n_samples, n_features = X.shape\n",
        "        w = np.ones(n_samples) / n_samples\n",
        "\n",
        "        for _ in range(self.n_estimators):\n",
        "            model = DecisionTreeClassifier(max_depth=1)\n",
        "            model.fit(X, y, sample_weight=w)\n",
        "            predictions = model.predict(X)\n",
        "\n",
        "            err = np.sum(w * (predictions != y)) / np.sum(w)\n",
        "\n",
        "            alpha = 0.5 * np.log((1 - err) / (err + 1e-10))\n",
        "\n",
        "            self.models.append(model)\n",
        "            self.alphas.append(alpha)\n",
        "\n",
        "            w *= np.exp(-alpha * y * predictions)\n",
        "            w /= np.sum(w)"
      ],
      "metadata": {
        "id": "05ykPwWPbqC7"
      },
      "execution_count": 3,
      "outputs": []
    },
    {
      "cell_type": "code",
      "source": [
        "def predict(self, X):\n",
        "        strong_preds = np.zeros(X.shape[0])\n",
        "\n",
        "        for model, alpha in zip(self.models, self.alphas):\n",
        "            predictions = model.predict(X)\n",
        "            strong_preds += alpha * predictions\n",
        "\n",
        "        return np.sign(strong_preds).astype(int)"
      ],
      "metadata": {
        "id": "kDI7E5wTbs4Z"
      },
      "execution_count": 4,
      "outputs": []
    },
    {
      "cell_type": "code",
      "source": [
        "if __name__ == \"__main__\":\n",
        "\n",
        "\n",
        "\n",
        "    X, y = make_classification(n_samples=1000, n_features=20, n_classes=2, random_state=42)\n",
        "    X_train, X_test, y_train, y_test = train_test_split(X, y, test_size=0.3, random_state=42)\n",
        "from sklearn.ensemble import AdaBoostClassifier\n",
        "\n",
        "adaboost = AdaBoostClassifier(n_estimators=50)\n",
        "adaboost.fit(X_train, y_train)\n",
        "predictions = adaboost.predict(X_test)\n",
        "\n",
        "\n",
        "accuracy = accuracy_score(y_test, predictions)\n",
        "precision = precision_score(y_test, predictions)\n",
        "recall = recall_score(y_test, predictions)\n",
        "f1 = f1_score(y_test, predictions)\n",
        "\n",
        "try:\n",
        "    y_prob = adaboost.predict_proba(X_test)[:, 1]\n",
        "    roc_auc = roc_auc_score(y_test, y_prob)\n",
        "except ValueError:\n",
        "    roc_auc = 'Undefined (requires probability scores)'\n",
        "\n",
        "print(f\"Accuracy: {accuracy * 100:.2f}%\")\n",
        "print(f\"Precision: {precision:.2f}\")\n",
        "print(f\"Recall: {recall:.2f}\")\n",
        "print(f\"F1 Score: {f1:.2f}\")\n",
        "print(f\"ROC-AUC: {roc_auc if isinstance(roc_auc, str) else round(roc_auc, 2)}\")"
      ],
      "metadata": {
        "colab": {
          "base_uri": "https://localhost:8080/"
        },
        "id": "2WrqsoP3bwK2",
        "outputId": "47f2a097-cf3e-49e3-84c7-424784d40f56"
      },
      "execution_count": 7,
      "outputs": [
        {
          "output_type": "stream",
          "name": "stdout",
          "text": [
            "Accuracy: 84.67%\n",
            "Precision: 0.86\n",
            "Recall: 0.84\n",
            "F1 Score: 0.85\n",
            "ROC-AUC: 0.92\n"
          ]
        }
      ]
    }
  ]
}